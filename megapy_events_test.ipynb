{
 "cells": [
  {
   "cell_type": "markdown",
   "metadata": {},
   "source": [
    "<h1>Testing MEGApy</h1>"
   ]
  },
  {
   "cell_type": "markdown",
   "metadata": {},
   "source": [
    "<h3>Importing ROOTpy and other libs. Defining input files</h3>"
   ]
  },
  {
   "cell_type": "code",
   "execution_count": 847,
   "metadata": {},
   "outputs": [
    {
     "data": {
      "text/plain": [
       "'\\n# Load geometry:\\nGeometry = M.MDGeometryQuest()\\nif Geometry.ScanSetupFile(M.MString(GeometryName)) == True:\\n  print(\"Geometry \" + GeometryName + \" loaded!\")\\nelse:\\n  print(\"Unable to load geometry \" + GeometryName + \" - Aborting!\")\\n  quit()\\n'"
      ]
     },
     "execution_count": 847,
     "metadata": {},
     "output_type": "execute_result"
    }
   ],
   "source": [
    "import ROOT as M\n",
    "import numpy as np\n",
    "import sys\n",
    "import matplotlib.pyplot as plt\n",
    "import time\n",
    "from astropy.stats import bayesian_blocks\n",
    "import scipy.optimize as op\n",
    "\n",
    "\n",
    "# Load MEGAlib into ROOT\n",
    "M.gSystem.Load(\"$(MEGALIB)/lib/libMEGAlib.so\")\n",
    "\n",
    "# Initialize MEGAlib\n",
    "G = M.MGlobal()\n",
    "G.Initialize()\n",
    "\n",
    "# We are good to go ...\n",
    "\n",
    "#GeometryName = \"$(MEGALIB)/resource/examples/geomega/special/Max.geo.setup\"\n",
    "GeometryName = \"/Users/thomassiegert/MEGAlib/massmodel/trunk/COSI.DetectorHead.geo.setup\" # change accordingly\n",
    "FileName = \"/Users/thomassiegert/data/grb_full_merge.tra\"\n",
    "\n",
    "\"\"\"\n",
    "# Load geometry:\n",
    "Geometry = M.MDGeometryQuest()\n",
    "if Geometry.ScanSetupFile(M.MString(GeometryName)) == True:\n",
    "  print(\"Geometry \" + GeometryName + \" loaded!\")\n",
    "else:\n",
    "  print(\"Unable to load geometry \" + GeometryName + \" - Aborting!\")\n",
    "  quit()\n",
    "\"\"\""
   ]
  },
  {
   "cell_type": "markdown",
   "metadata": {},
   "source": [
    "<h3>Open COSI data TRA file</h3>"
   ]
  },
  {
   "cell_type": "code",
   "execution_count": 811,
   "metadata": {},
   "outputs": [],
   "source": [
    "Reader = M.MFileEventsTra()\n",
    "if Reader.Open(M.MString(FileName)) == False:\n",
    "  print(\"Unable to open file \" + FileName + \". Aborting!\")\n",
    "  quit()"
   ]
  },
  {
   "cell_type": "markdown",
   "metadata": {},
   "source": [
    "<h3>Define values to read in, convert to numpy arrays</h3>"
   ]
  },
  {
   "cell_type": "code",
   "execution_count": 812,
   "metadata": {},
   "outputs": [
    {
     "name": "stdout",
     "output_type": "stream",
     "text": [
      "time elapsed:  22.183594942092896\n"
     ]
    }
   ],
   "source": [
    "t1 = time.time()\n",
    "erg = []\n",
    "tt = []\n",
    "et = []\n",
    "\n",
    "while True:\n",
    "  Event = Reader.GetNextEvent()\n",
    "  if not Event:\n",
    "    break\n",
    "  erg.append(Event.Ei())\n",
    "  tt.append(Event.GetTime().GetAsSeconds())\n",
    "  et.append(Event.GetEventType())\n",
    "    \n",
    "erg = np.array(erg)\n",
    "tt = np.array(tt)\n",
    "et = np.array(et)\n",
    "\n",
    "t2 = time.time() - t1\n",
    "print(\"time elapsed: \",t2)"
   ]
  },
  {
   "cell_type": "markdown",
   "metadata": {},
   "source": [
    "<h3>Build spectrum rom time-tagged events</h3>"
   ]
  },
  {
   "cell_type": "code",
   "execution_count": 848,
   "metadata": {},
   "outputs": [
    {
     "data": {
      "text/plain": [
       "Text(0, 0.5, 'Counts')"
      ]
     },
     "execution_count": 848,
     "metadata": {},
     "output_type": "execute_result"
    },
    {
     "data": {
      "image/png": "[encoded data removed]",
      "text/plain": [
       "<Figure size 576x432 with 1 Axes>"
      ]
     },
     "metadata": {
      "needs_background": "light"
     },
     "output_type": "display_data"
    }
   ],
   "source": [
    "binsize = 1.0\n",
    "emin = 10\n",
    "emax = 4001\n",
    "bins = np.arange(emin,emax,binsize)\n",
    "tmp = np.histogram(erg,bins=bins)\n",
    "ee = tmp[1][0:-1] + binsize / 2.\n",
    "nn = tmp[0]\n",
    "plt.figure(figsize=(8,6))\n",
    "plt.step(ee,nn,color='black')\n",
    "plt.xscale('log')\n",
    "plt.yscale('log')\n",
    "plt.xlabel('Energy [keV]')\n",
    "plt.ylabel('Counts')"
   ]
  },
  {
   "cell_type": "markdown",
   "metadata": {},
   "source": [
    "Total number of events, and useful events:"
   ]
  },
  {
   "cell_type": "code",
   "execution_count": 849,
   "metadata": {},
   "outputs": [
    {
     "name": "stdout",
     "output_type": "stream",
     "text": [
      "984921 928582\n"
     ]
    }
   ],
   "source": [
    "print(len(erg),len(erg[erg > 10]))"
   ]
  },
  {
   "cell_type": "markdown",
   "metadata": {},
   "source": [
    "<h3>Get time information</h3>"
   ]
  },
  {
   "cell_type": "code",
   "execution_count": 815,
   "metadata": {},
   "outputs": [
    {
     "name": "stdout",
     "output_type": "stream",
     "text": [
      "First event in data set:  1464591377.0797627\n",
      "Last photon in data set:  1464592174.0956452\n",
      "offset revomed first (should be 0.0):  0.0\n",
      "offset removed last:  797.0158824920654\n",
      "timespan of data set:  797.0158824920654\n"
     ]
    }
   ],
   "source": [
    "t_arr = tt - tt[0]\n",
    "print(\"First event in data set: \",tt[0])\n",
    "print(\"Last photon in data set: \",tt[-1])\n",
    "print(\"offset revomed first (should be 0.0): \",t_arr[0])\n",
    "print(\"offset removed last: \",t_arr[-1])\n",
    "timespan = t_arr[-1] - t_arr[0]\n",
    "print(\"timespan of data set: \",timespan)"
   ]
  },
  {
   "cell_type": "markdown",
   "metadata": {},
   "source": [
    "<h3>Build binned light curve and define GRB time and BG window</h3>"
   ]
  },
  {
   "cell_type": "code",
   "execution_count": 816,
   "metadata": {},
   "outputs": [],
   "source": [
    "tbin_size = 1.0\n",
    "tbins = np.arange(0,timespan+1,tbin_size)\n",
    "lc = np.histogram(tt,bins=tbins+tt[0])\n",
    "ttime = lc[1][0:-1] + tbin_size / 2.\n",
    "counts = lc[0]\n",
    "T0 = 1464591827\n",
    "T0_dt = 20.\n",
    "T00 = T0 - ttime[0]\n",
    "hw = 50."
   ]
  },
  {
   "cell_type": "markdown",
   "metadata": {},
   "source": [
    "Times outside define GRB window"
   ]
  },
  {
   "cell_type": "code",
   "execution_count": 817,
   "metadata": {},
   "outputs": [],
   "source": [
    "notgrb = np.where((ttime <= T0-hw) | (ttime >= T0+T0_dt+hw))"
   ]
  },
  {
   "cell_type": "markdown",
   "metadata": {},
   "source": [
    "<h3>Make light curve plot</h3>"
   ]
  },
  {
   "cell_type": "code",
   "execution_count": 818,
   "metadata": {},
   "outputs": [
    {
     "data": {
      "text/plain": [
       "Text(0, 0.5, 'Counts in 1 s')"
      ]
     },
     "execution_count": 818,
     "metadata": {},
     "output_type": "execute_result"
    },
    {
     "data": {
      "image/png": "[encoded data removed]",
      "text/plain": [
       "<Figure size 576x432 with 1 Axes>"
      ]
     },
     "metadata": {
      "needs_background": "light"
     },
     "output_type": "display_data"
    }
   ],
   "source": [
    "ttime -= ttime[0]\n",
    "plt.figure(figsize=(8,6))\n",
    "plt.plot(ttime,counts,'ro')\n",
    "plt.plot(ttime[notgrb],counts[notgrb],'ko')\n",
    "plt.xlabel(\"Time since T$_0$=\"+str(T0)+\" [s]\")\n",
    "plt.ylabel(\"Counts in 1 s\")"
   ]
  },
  {
   "cell_type": "markdown",
   "metadata": {},
   "source": [
    "<h3>Selections on time, energy, and event type</h3>"
   ]
  },
  {
   "cell_type": "code",
   "execution_count": 819,
   "metadata": {},
   "outputs": [
    {
     "name": "stdout",
     "output_type": "stream",
     "text": [
      "GRB T0 after offset:  449.42023730278015\n"
     ]
    }
   ],
   "source": [
    "t_arr_select  = t_arr[(erg > emin) & (tt > T0-hw) & (tt < T0+hw+T0_dt)]\n",
    "e_arr_select  = erg[(erg > emin)   & (tt > T0-hw) & (tt < T0+hw+T0_dt)]\n",
    "et_arr_select = et[(erg > emin)    & (tt > T0-hw) & (tt < T0+hw+T0_dt)]\n",
    "#redefine light curve\n",
    "tbins = np.arange(0,timespan+1,tbin_size)\n",
    "lc = np.histogram(t_arr_select,bins=tbins)\n",
    "time = lc[1][0:-1] + tbin_size/2.\n",
    "counts = lc[0]\n",
    "print(\"GRB T0 after offset: \",T00)"
   ]
  },
  {
   "cell_type": "markdown",
   "metadata": {},
   "source": [
    "<h3>Define background before and after burst and simple subtract for signal spectrum</h3>"
   ]
  },
  {
   "cell_type": "code",
   "execution_count": 823,
   "metadata": {},
   "outputs": [],
   "source": [
    "# event type 4 == photo effect\n",
    "\n",
    "bg1_ph = e_arr_select[(t_arr_select > T00-hw)    & (t_arr_select < T00)          & (et_arr_select == 4)]\n",
    "bg2_ph = e_arr_select[(t_arr_select > T00+T0_dt) & (t_arr_select < T00+T0_dt+hw) & (et_arr_select == 4)]\n",
    "sig_ph = e_arr_select[(t_arr_select > T00)       & (t_arr_select < T00+T0_dt)    & (et_arr_select == 4)]\n",
    "\n",
    "dts2 = [hw,hw,T0_dt]\n",
    "\n",
    "e_bins = 10**np.arange(np.log10(emin),np.log10(emax),0.05)\n",
    "sig_ph_hist = np.histogram(sig_ph,bins=e_bins)\n",
    "e2 = (e_bins[1:] + e_bins[0:-1])/2.\n",
    "e2_err = (e_bins[1:] - e_bins[0:-1])/2.\n",
    "bg1_ph_hist = np.histogram(bg1_ph,bins=e_bins)\n",
    "bg2_ph_hist = np.histogram(bg2_ph,bins=e_bins)\n",
    "bg_ph = (bg1_ph_hist[0]+bg2_ph_hist[0])/(dts2[0]+dts2[1])\n",
    "bg_ph_err = np.sqrt(bg1_ph_hist[0]+bg2_ph_hist[0])/(dts2[0]+dts2[1])\n",
    "spbg_ph = sig_ph_hist[0]/(T0_dt)\n",
    "spbg_ph_err = np.sqrt(sig_ph_hist[0])/(T0_dt)\n",
    "signal_ph = spbg_ph-bg_ph\n",
    "signal_ph_err = np.sqrt(bg_ph_err**2 + spbg_ph_err**2)"
   ]
  },
  {
   "cell_type": "code",
   "execution_count": 824,
   "metadata": {},
   "outputs": [],
   "source": [
    "# event type 0 == compton effect\n",
    "\n",
    "bg1_ce = e_arr_select[(t_arr_select > T00-hw)    & (t_arr_select < T00)          & (et_arr_select == 0)]\n",
    "bg2_ce = e_arr_select[(t_arr_select > T00+T0_dt) & (t_arr_select < T00+T0_dt+hw) & (et_arr_select == 0)]\n",
    "sig_ce = e_arr_select[(t_arr_select > T00)       & (t_arr_select < T00+T0_dt)    & (et_arr_select == 0)]\n",
    "\n",
    "dts2 = [hw,hw,T0_dt]\n",
    "\n",
    "e_bins = 10**np.arange(np.log10(emin),np.log10(emax),0.05)\n",
    "sig_ce_hist = np.histogram(sig_ce,bins=e_bins)\n",
    "e2 = (e_bins[1:] + e_bins[0:-1])/2.\n",
    "e2_err = (e_bins[1:] - e_bins[0:-1])/2.\n",
    "bg1_ce_hist = np.histogram(bg1_ce,bins=e_bins)\n",
    "bg2_ce_hist = np.histogram(bg2_ce,bins=e_bins)\n",
    "bg_ce = (bg1_ce_hist[0]+bg2_ce_hist[0])/(dts2[0]+dts2[1])\n",
    "bg_ce_err = np.sqrt(bg1_ce_hist[0]+bg2_ce_hist[0])/(dts2[0]+dts2[1])\n",
    "spbg_ce = sig_ce_hist[0]/(T0_dt)\n",
    "spbg_ce_err = np.sqrt(sig_ce_hist[0])/(T0_dt)\n",
    "signal_ce = spbg_ce-bg_ce\n",
    "signal_ce_err = np.sqrt(bg_ce_err**2 + spbg_ce_err**2)"
   ]
  },
  {
   "cell_type": "markdown",
   "metadata": {},
   "source": [
    "<h3>Plot resulting count rate spectra for PH and CE</h3>"
   ]
  },
  {
   "cell_type": "code",
   "execution_count": 825,
   "metadata": {},
   "outputs": [
    {
     "data": {
      "text/plain": [
       "<matplotlib.legend.Legend at 0x150ac5f98>"
      ]
     },
     "execution_count": 825,
     "metadata": {},
     "output_type": "execute_result"
    },
    {
     "data": {
      "image/png": "[encoded data removed]",
      "text/plain": [
       "<Figure size 576x432 with 1 Axes>"
      ]
     },
     "metadata": {
      "needs_background": "light"
     },
     "output_type": "display_data"
    }
   ],
   "source": [
    "plt.figure(figsize=(8,6))\n",
    "plt.errorbar(e2,signal_ph/(2*e2_err),xerr=e2_err,yerr=signal_ph_err/(2*e2_err),color='green',fmt='o',label='Photo events only')\n",
    "plt.errorbar(e2,signal_ce/(2*e2_err),xerr=e2_err,yerr=signal_ce_err/(2*e2_err),color='red',fmt='o',label='Compton events only')\n",
    "\n",
    "plt.xlim(10,5000)\n",
    "plt.ylim(1e-5,1e1)\n",
    "plt.xscale('log')\n",
    "plt.yscale('log')\n",
    "plt.ylabel('Count rate [ph s$^{-1}$ keV$^{-1}$]')\n",
    "plt.xlabel('Energy [keV]')\n",
    "plt.legend()"
   ]
  },
  {
   "cell_type": "markdown",
   "metadata": {},
   "source": [
    "Total photo events, compton events"
   ]
  },
  {
   "cell_type": "code",
   "execution_count": 826,
   "metadata": {},
   "outputs": [
    {
     "name": "stdout",
     "output_type": "stream",
     "text": [
      "26827 7853\n"
     ]
    }
   ],
   "source": [
    "print(len(sig_ph),len(sig_ce))"
   ]
  },
  {
   "cell_type": "code",
   "execution_count": null,
   "metadata": {},
   "outputs": [],
   "source": []
  },
  {
   "cell_type": "code",
   "execution_count": null,
   "metadata": {},
   "outputs": [],
   "source": []
  },
  {
   "cell_type": "code",
   "execution_count": null,
   "metadata": {},
   "outputs": [],
   "source": []
  },
  {
   "cell_type": "code",
   "execution_count": null,
   "metadata": {},
   "outputs": [],
   "source": []
  },
  {
   "cell_type": "code",
   "execution_count": null,
   "metadata": {},
   "outputs": [],
   "source": []
  },
  {
   "cell_type": "markdown",
   "metadata": {},
   "source": [
    "<h3>Fitting a phenomelogical model (not knowing the effective area!)</h3>\n",
    "Comparison values to: <a href=http://www.mpe.mpg.de/~jcg/grb160530A.html>http://www.mpe.mpg.de/~jcg/grb160530A.html</a>"
   ]
  },
  {
   "cell_type": "markdown",
   "metadata": {},
   "source": [
    "Defining a model like dN/dE ~ (E^alpha)*exp(-E*(2+alpha)/Ep)<br>\n",
    "    and chi2-fitting ..."
   ]
  },
  {
   "cell_type": "code",
   "execution_count": 827,
   "metadata": {},
   "outputs": [],
   "source": [
    "def cutoffpl(E,K,alpha,Ep):\n",
    "    return K*E**alpha*np.exp(-E*(2+alpha)/Ep)"
   ]
  },
  {
   "cell_type": "code",
   "execution_count": 828,
   "metadata": {},
   "outputs": [],
   "source": [
    "def lnlike(theta, E, F, F_err):\n",
    "    K, alpha, Ep = theta\n",
    "    model = cutoffpl(E,K,alpha,Ep)\n",
    "    return -0.5*(np.sum(( (F - model) / F_err)**2))"
   ]
  },
  {
   "cell_type": "markdown",
   "metadata": {},
   "source": [
    "Definition of arrays, removing zeros (leads to nans and infs in derivatives); PH case"
   ]
  },
  {
   "cell_type": "code",
   "execution_count": 829,
   "metadata": {},
   "outputs": [],
   "source": [
    "F_ph     = signal_ph/(2*e2_err)\n",
    "idx = (F_ph != 0) & (e2 >= 100)\n",
    "F_ph = F_ph[idx]\n",
    "F_ph_err = signal_ph_err/(2*e2_err)\n",
    "F_ph_err = F_ph_err[idx]\n",
    "E_ph     = e2[idx]\n",
    "E_ph_err = e2_err[idx]"
   ]
  },
  {
   "cell_type": "markdown",
   "metadata": {},
   "source": [
    "Starting values"
   ]
  },
  {
   "cell_type": "code",
   "execution_count": 830,
   "metadata": {},
   "outputs": [],
   "source": [
    "K0 = 1e-5\n",
    "alpha0 = 4.0\n",
    "Ep0 = 500."
   ]
  },
  {
   "cell_type": "code",
   "execution_count": 831,
   "metadata": {},
   "outputs": [],
   "source": [
    "popt, pcov = op.curve_fit(cutoffpl, E_ph, F_ph, sigma=F_ph_err, p0=[K0,alpha0,Ep0])"
   ]
  },
  {
   "cell_type": "markdown",
   "metadata": {},
   "source": [
    "Fitting values and uncertainties from covariance matrix"
   ]
  },
  {
   "cell_type": "code",
   "execution_count": 832,
   "metadata": {},
   "outputs": [
    {
     "name": "stdout",
     "output_type": "stream",
     "text": [
      "[ 1.11671002e+04 -1.73220087e+00  1.14347849e+02]\n",
      "[1.21650655e+04 2.37446900e-01 6.51997421e+01]\n"
     ]
    }
   ],
   "source": [
    "fit_p_ph = popt\n",
    "fit_e_ph = np.sqrt(np.diag(pcov))\n",
    "print(fit_p_ph)\n",
    "print(fit_e_ph)"
   ]
  },
  {
   "cell_type": "markdown",
   "metadata": {},
   "source": [
    "Definition of arrays, removing zeros (leads to nans and infs in derivatives); CE case"
   ]
  },
  {
   "cell_type": "code",
   "execution_count": 833,
   "metadata": {},
   "outputs": [],
   "source": [
    "F_ce     = signal_ce/(2*e2_err)\n",
    "idx = (F_ce != 0) & (e2 >= 100)\n",
    "F_ce = F_ce[idx]\n",
    "F_ce_err = signal_ce_err/(2*e2_err)\n",
    "F_ce_err = F_ce_err[idx]\n",
    "E_ce     = e2[idx]\n",
    "E_ce_err = e2_err[idx]"
   ]
  },
  {
   "cell_type": "code",
   "execution_count": 834,
   "metadata": {},
   "outputs": [],
   "source": [
    "popt, pcov = op.curve_fit(cutoffpl, E_ce, F_ce, sigma=F_ce_err, p0=[K0,alpha0,Ep0])"
   ]
  },
  {
   "cell_type": "markdown",
   "metadata": {},
   "source": [
    "Fitting values and uncertainties from covariance matrix"
   ]
  },
  {
   "cell_type": "code",
   "execution_count": 835,
   "metadata": {},
   "outputs": [
    {
     "name": "stdout",
     "output_type": "stream",
     "text": [
      "[2.36087611e-04 1.85606229e+00 3.66431258e+02]\n",
      "[3.96446709e-04 3.60640225e-01 1.25561651e+01]\n"
     ]
    }
   ],
   "source": [
    "fit_p_ce = popt\n",
    "fit_e_ce = np.sqrt(np.diag(pcov))\n",
    "print(fit_p_ce)\n",
    "print(fit_e_ce)"
   ]
  },
  {
   "cell_type": "markdown",
   "metadata": {},
   "source": [
    "<h3>Plot PH and CE data in EF_E and model fits</h3>"
   ]
  },
  {
   "cell_type": "code",
   "execution_count": 836,
   "metadata": {},
   "outputs": [
    {
     "data": {
      "text/plain": [
       "<matplotlib.legend.Legend at 0x13d189e10>"
      ]
     },
     "execution_count": 836,
     "metadata": {},
     "output_type": "execute_result"
    },
    {
     "data": {
      "image/png": "[encoded data removed]",
      "text/plain": [
       "<Figure size 576x432 with 1 Axes>"
      ]
     },
     "metadata": {
      "needs_background": "light"
     },
     "output_type": "display_data"
    }
   ],
   "source": [
    "plt.figure(figsize=(8,6))\n",
    "plt.errorbar(E_ph,F_ph*E_ph,xerr=E_ph_err,yerr=F_ph_err*E_ph,color='gray',fmt='o',label='Photo events only')\n",
    "plt.errorbar(E_ce,F_ce*E_ce,xerr=E_ce_err,yerr=F_ce_err*E_ce,color='black',fmt='o',label='Compton events only')\n",
    "\n",
    "model_ph = cutoffpl(E_ph,fit_p_ph[0],fit_p_ph[1],fit_p_ph[2])*E_ph\n",
    "model_ce = cutoffpl(E_ce,fit_p_ce[0],fit_p_ce[1],fit_p_ce[2])*E_ce\n",
    "\n",
    "plt.plot(E_ph,model_ph,'o-',label='Cutoff power-law model (PH)')\n",
    "plt.plot(E_ce,model_ce,'r-',label='Cutoff power-law model (CE)')\n",
    "\n",
    "\n",
    "\n",
    "plt.xlim(90,5000)\n",
    "plt.ylim(1e-2,1e3)\n",
    "plt.xscale('log')\n",
    "plt.yscale('log')\n",
    "plt.ylabel('E $x$ Count rate [ph s$^{-1}$ keV$^{-1}$ keV]')\n",
    "plt.xlabel('Energy [keV]')\n",
    "plt.legend()"
   ]
  },
  {
   "cell_type": "code",
   "execution_count": 839,
   "metadata": {},
   "outputs": [],
   "source": [
    "K0 = 1.0\n",
    "alpha0 = 1.0\n",
    "Ep0 = 500.\n",
    "nll = lambda *args: -lnlike(*args)\n",
    "result = op.minimize(nll, [K0, alpha0, Ep0], args=(E_ph, F_ph, F_ph_err))\n",
    "K_ml, alpha_ml, Ep_ml = result[\"x\"]"
   ]
  },
  {
   "cell_type": "code",
   "execution_count": 841,
   "metadata": {},
   "outputs": [
    {
     "data": {
      "text/plain": [
       "(11177.066973130719,\n",
       " -1.7323840147615548,\n",
       " 114.29460365278757,\n",
       " array([ 1.11671002e+04, -1.73220087e+00,  1.14347849e+02]))"
      ]
     },
     "execution_count": 841,
     "metadata": {},
     "output_type": "execute_result"
    }
   ],
   "source": [
    "K_ml, alpha_ml, Ep_ml, fit_p_ph"
   ]
  }
 ],
 "metadata": {
  "kernelspec": {
   "display_name": "Python 3",
   "language": "python",
   "name": "python3"
  },
  "language_info": {
   "codemirror_mode": {
    "name": "ipython",
    "version": 3
   },
   "file_extension": ".py",
   "mimetype": "text/x-python",
   "name": "python",
   "nbconvert_exporter": "python",
   "pygments_lexer": "ipython3",
   "version": "3.7.2"
  }
 },
 "nbformat": 4,
 "nbformat_minor": 2
}
